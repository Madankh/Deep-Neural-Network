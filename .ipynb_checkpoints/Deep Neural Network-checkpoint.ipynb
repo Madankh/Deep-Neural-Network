{
 "cells": [
  {
   "cell_type": "code",
   "execution_count": 1,
   "id": "ae9baee0",
   "metadata": {},
   "outputs": [],
   "source": [
    "import time\n",
    "import numpy as np\n",
    "import h5py\n",
    "import matplotlib.pyplot as plt\n",
    "import scipy\n",
    "from PIL import Image\n",
    "from scipy import ndimage\n",
    "from dnn_app_utils_v3 import *\n",
    "from public_tests import *\n",
    "\n",
    "%matplotlib inline\n",
    "plt.rcParams['figure.figsize'] = (5.0, 4.0) # set default size of plots\n",
    "plt.rcParams['image.interpolation'] = 'nearest'\n",
    "plt.rcParams['image.cmap'] = 'gray'\n",
    "\n",
    "%load_ext autoreload\n",
    "%autoreload 2\n",
    "\n",
    "np.random.seed(1)"
   ]
  },
  {
   "cell_type": "code",
   "execution_count": 2,
   "id": "5e22c449",
   "metadata": {},
   "outputs": [],
   "source": [
    "train_x_orig, train_y , test_x_orig , test_y, classes = load_data()"
   ]
  },
  {
   "cell_type": "code",
   "execution_count": 3,
   "id": "4e8bb7fc",
   "metadata": {},
   "outputs": [
    {
     "name": "stdout",
     "output_type": "stream",
     "text": [
      "y = 0. It's a non-cat picture.\n"
     ]
    },
    {
     "data": {
      "image/png": "[encoded data removed]",
      "text/plain": [
       "<Figure size 500x400 with 1 Axes>"
      ]
     },
     "metadata": {},
     "output_type": "display_data"
    }
   ],
   "source": [
    "# Example of a picture\n",
    "index = 1\n",
    "plt.imshow(train_x_orig[index])\n",
    "print (\"y = \" + str(train_y[0,index]) + \". It's a \" + classes[train_y[0,index]].decode(\"utf-8\") +  \" picture.\")"
   ]
  },
  {
   "cell_type": "code",
   "execution_count": 4,
   "id": "5487b814",
   "metadata": {},
   "outputs": [
    {
     "name": "stdout",
     "output_type": "stream",
     "text": [
      "Number of training examples: 209\n",
      "Number of testing examples: 50\n",
      "Each image is of size: (64, 64, 3)\n",
      "train_x_orig shape: (209, 64, 64, 3)\n",
      "train_y shape: (1, 209)\n",
      "test_x_orig shape: (50, 64, 64, 3)\n",
      "test_y shape: (1, 50)\n"
     ]
    }
   ],
   "source": [
    "# Explore your dataset \n",
    "m_train = train_x_orig.shape[0]\n",
    "num_px = train_x_orig.shape[1]\n",
    "m_test = test_x_orig.shape[0]  \n",
    "\n",
    "print (\"Number of training examples: \" + str(m_train))\n",
    "print (\"Number of testing examples: \" + str(m_test))\n",
    "print (\"Each image is of size: (\" + str(num_px) + \", \" + str(num_px) + \", 3)\")\n",
    "print (\"train_x_orig shape: \" + str(train_x_orig.shape))\n",
    "print (\"train_y shape: \" + str(train_y.shape))\n",
    "print (\"test_x_orig shape: \" + str(test_x_orig.shape))\n",
    "print (\"test_y shape: \" + str(test_y.shape))"
   ]
  },
  {
   "cell_type": "code",
   "execution_count": 5,
   "id": "58fc7a6c",
   "metadata": {},
   "outputs": [
    {
     "name": "stdout",
     "output_type": "stream",
     "text": [
      "train_x's shape: (12288, 209)\n",
      "test_x's shape: (12288, 50)\n"
     ]
    }
   ],
   "source": [
    "# Reshape the training and test examples \n",
    "train_x_flatten = train_x_orig.reshape(train_x_orig.shape[0], -1).T   # The \"-1\" makes reshape flatten the remaining dimensions\n",
    "test_x_flatten = test_x_orig.reshape(test_x_orig.shape[0], -1).T\n",
    "\n",
    "# Standardize data to have feature values between 0 and 1.\n",
    "train_x = train_x_flatten/255.\n",
    "test_x = test_x_flatten/255.\n",
    "\n",
    "print (\"train_x's shape: \" + str(train_x.shape))\n",
    "print (\"test_x's shape: \" + str(test_x.shape))"
   ]
  },
  {
   "cell_type": "code",
   "execution_count": 6,
   "id": "fbad842e",
   "metadata": {},
   "outputs": [],
   "source": [
    "## CONSTANTS DEFINING THE MODEL\n",
    "n_x = 12288\n",
    "n_h = 7\n",
    "n_y = 1\n",
    "layers_dims = (n_x, n_h , n_y)\n",
    "learning_rate = 0.0075"
   ]
  },
  {
   "cell_type": "markdown",
   "id": "f1c073e3",
   "metadata": {},
   "source": [
    "# Compare two type of network Two_layers or L_layer NN"
   ]
  },
  {
   "cell_type": "code",
   "execution_count": 7,
   "id": "fcd6a6a6",
   "metadata": {},
   "outputs": [],
   "source": [
    "def initialize_parameters(n_x , n_h , n_y):\n",
    "    np.random.seed(1)\n",
    "    W1 = np.random.randn(n_h , n_x)*0.01\n",
    "    b1 = np.zeros((n_h , 1))\n",
    "    W2 = np.random.randn(n_y , n_h)*0.01\n",
    "    b2 = np.zeros((n_y , 1))\n",
    "    \n",
    "    parameters = {\n",
    "        \"W1\":W1,\n",
    "        \"b1\":b1,\n",
    "        \"W2\":W2,\n",
    "        \"b2\":b2\n",
    "    }\n",
    "    \n",
    "    return parameters"
   ]
  },
  {
   "cell_type": "code",
   "execution_count": 8,
   "id": "265dd6ef",
   "metadata": {},
   "outputs": [],
   "source": [
    "def linear_forward(A , W, b):\n",
    "    Z = np.dot(W, A)+b\n",
    "    cache = (A, W, b)\n",
    "    return Z , cache"
   ]
  },
  {
   "cell_type": "code",
   "execution_count": 25,
   "id": "99720ef9",
   "metadata": {},
   "outputs": [],
   "source": [
    "def linear_backward(dA , cache):\n",
    "    A_prev , W , b = cache\n",
    "    m = A_prev.shape[1]\n",
    "    dW = 1./m * np.dot(dA , A_prev.T)\n",
    "    db = 1./m * np.sum(dA, axis = 1, keepdims = True)\n",
    "    dA_prev = np.dot(W.T , dA)\n",
    "    return dA_prev , dW , db"
   ]
  },
  {
   "cell_type": "code",
   "execution_count": 26,
   "id": "c82f9e46",
   "metadata": {},
   "outputs": [],
   "source": [
    "def sigmoid(X):\n",
    "    Z = 1/(1+np.exp(-X))\n",
    "    cache = X\n",
    "    return Z, cache"
   ]
  },
  {
   "cell_type": "code",
   "execution_count": 27,
   "id": "144363e2",
   "metadata": {},
   "outputs": [],
   "source": [
    "def relu(X):\n",
    "    Z = np.maximum(0 , X)\n",
    "    cache = X\n",
    "    return Z , cache"
   ]
  },
  {
   "cell_type": "code",
   "execution_count": 28,
   "id": "ae9f318c",
   "metadata": {},
   "outputs": [],
   "source": [
    "def sigmoid_backward(dA , cache):\n",
    "    Z = cache\n",
    "    s = 1/(1+np.exp(-Z))\n",
    "    dZ = dA * s*(1-s)\n",
    "    return dZ"
   ]
  },
  {
   "cell_type": "code",
   "execution_count": 29,
   "id": "c29044e0",
   "metadata": {},
   "outputs": [],
   "source": [
    "def relu_backward(dA , cache):\n",
    "    Z = cache\n",
    "    dZ = np.array(dA , copy=True)\n",
    "    dZ[Z <= 0] = 0\n",
    "    return dZ"
   ]
  },
  {
   "cell_type": "code",
   "execution_count": 30,
   "id": "d8b7c0bc",
   "metadata": {},
   "outputs": [],
   "source": [
    "def linear_activation_forward(A_prev , W, b , activation):\n",
    "    if activation == \"sigmoid\":\n",
    "        Z , linear_cache = linear_forward(A_prev , W , b)\n",
    "        A , activation_cache = sigmoid(Z)\n",
    "    elif activation == \"relu\":\n",
    "        Z , linear_cache = linear_forward(A_prev , W , b)\n",
    "        A , activation_cache = relu(Z)\n",
    "    cache = (linear_cache, activation_cache)\n",
    "    return A , cache"
   ]
  },
  {
   "cell_type": "code",
   "execution_count": 31,
   "id": "2997d52a",
   "metadata": {},
   "outputs": [],
   "source": [
    "def linear_activation_backward(dA, cache , activation):\n",
    "    linear_cache, activation_cache = cache\n",
    "    if activation == \"sigmoid\":\n",
    "        dZ = sigmoid_backward(dA , activation_cache)\n",
    "        dA_prev , dW , db = linear_backward(dZ , linear_cache)\n",
    "    elif activation == \"relu\":\n",
    "        dZ = relu_backward(dA , activation_cache)\n",
    "        dA_prev , dW, db = linear_backward(dZ, linear_cache)\n",
    "        \n",
    "    return dA_prev , dW, db\n",
    "        "
   ]
  },
  {
   "cell_type": "code",
   "execution_count": null,
   "id": "9c7382cc",
   "metadata": {},
   "outputs": [],
   "source": []
  },
  {
   "cell_type": "code",
   "execution_count": 32,
   "id": "5f989f13",
   "metadata": {},
   "outputs": [],
   "source": [
    "def two_layer_model(X, Y, layers_dims, learning_rate = 0.0075, num_iterations = 3000, print_cost=False):\n",
    "    \"\"\"\n",
    "    Implements a two-layer neural network: LINEAR->RELU->LINEAR->SIGMOID.\n",
    "    \n",
    "    Arguments:\n",
    "    X -- input data, of shape (n_x, number of examples)\n",
    "    Y -- true \"label\" vector (containing 1 if cat, 0 if non-cat), of shape (1, number of examples)\n",
    "    layers_dims -- dimensions of the layers (n_x, n_h, n_y)\n",
    "    num_iterations -- number of iterations of the optimization loop\n",
    "    learning_rate -- learning rate of the gradient descent update rule\n",
    "    print_cost -- If set to True, this will print the cost every 100 iterations \n",
    "    \n",
    "    Returns:\n",
    "    parameters -- a dictionary containing W1, W2, b1, and b2\n",
    "    \"\"\"\n",
    "    np.random.seed(1)\n",
    "    grads = {}\n",
    "    costs = []\n",
    "    m = X.shape[1]\n",
    "    (n_x, n_h, n_y) = layers_dims\n",
    "    parameters = initialize_parameters(n_x , n_h, n_y)\n",
    "    \n",
    "    W1 = parameters[\"W1\"]\n",
    "    b1 = parameters[\"b1\"]\n",
    "    W2 = parameters[\"W2\"]\n",
    "    b2 = parameters[\"b2\"]\n",
    "    \n",
    "    for i in range(0 , num_iterations):\n",
    "        # Your code starts here\n",
    "        A1 , cache1 = linear_activation_forward(X , W1 , b1, activation=\"relu\")\n",
    "        A2 , cache2 = linear_activation_forward(A1 , W2 , b2 , activation=\"sigmoid\")\n",
    "        \n",
    "        # Compute cost\n",
    "        cost = compute_cost(A2 , Y)\n",
    "        # Initializing backward propagation\n",
    "        dA2 = -(np.divide(Y, A2) - np.divide(1-Y, 1-A2))\n",
    "        # Backward propagation\n",
    "        dA1, dW2, db2 = linear_activation_backward(dA2, cache2 , activation=\"sigmoid\")\n",
    "        dA1, dW1, db1 = linear_activation_backward(dA1, cache1 , activation=\"relu\")\n",
    "        \n",
    "        grads[\"dW1\"] = dW1\n",
    "        grads[\"db1\"] = db1\n",
    "        grads[\"dW2\"] = dW2\n",
    "        grads[\"db2\"] = db2\n",
    "        # Update parameters \n",
    "        parameters = update_parameters(parameters , grads , learning_rate)\n",
    "        \n",
    "        # Retrieve W1, b1 , W2 , b2 from parameters\n",
    "        W1 = parameters[\"W1\"]\n",
    "        b1 = parameters[\"b1\"]\n",
    "        W2 = parameters[\"W2\"]\n",
    "        b2 = parameters[\"b2\"]\n",
    "        \n",
    "        # Print the cost every 100 iterations\n",
    "        if print_cost and i % 100 == 0 or i == num_iterations - 1:\n",
    "            print(\"Cost after iteration {}: {}\".format(i, np.squeeze(cost)))\n",
    "        if i % 100 == 0 or i == num_iterations:\n",
    "            costs.append(cost)\n",
    "    return parameters , costs  \n",
    "\n",
    "def plot_costs(costs, learning_rate=0.0075):\n",
    "    plt.plot(np.squeeze(costs))\n",
    "    plt.ylabel('cost')\n",
    "    plt.xlabel('iterations (per hundreds)')\n",
    "    plt.title(\"Learning rate =\" + str(learning_rate))\n",
    "    plt.show()"
   ]
  },
  {
   "cell_type": "code",
   "execution_count": 33,
   "id": "b318e0b8",
   "metadata": {},
   "outputs": [
    {
     "name": "stdout",
     "output_type": "stream",
     "text": [
      "Cost after iteration 1: 0.6926114346158595\n",
      "Cost after first iteration: 0.693049735659989\n",
      "Cost after iteration 1: 0.6915746967050506\n",
      "Cost after iteration 1: 0.6915746967050506\n",
      "Cost after iteration 1: 0.6915746967050506\n",
      "Cost after iteration 2: 0.6524135179683451\n",
      "\u001b[92m All tests passed.\n"
     ]
    }
   ],
   "source": [
    "parameters, costs = two_layer_model(train_x, train_y, layers_dims = (n_x, n_h, n_y), num_iterations = 2, print_cost=False)\n",
    "\n",
    "print(\"Cost after first iteration: \" + str(costs[0]))\n",
    "\n",
    "two_layer_model_test(two_layer_model)"
   ]
  },
  {
   "cell_type": "code",
   "execution_count": 34,
   "id": "cb2fd205",
   "metadata": {},
   "outputs": [
    {
     "name": "stdout",
     "output_type": "stream",
     "text": [
      "Cost after iteration 0: 0.693049735659989\n",
      "Cost after iteration 100: 0.6464320953428849\n",
      "Cost after iteration 200: 0.6325140647912676\n",
      "Cost after iteration 300: 0.6015024920354665\n",
      "Cost after iteration 400: 0.5601966311605747\n",
      "Cost after iteration 500: 0.5158304772764732\n",
      "Cost after iteration 600: 0.4754901313943325\n",
      "Cost after iteration 700: 0.43391631512257517\n",
      "Cost after iteration 800: 0.400797753620389\n",
      "Cost after iteration 900: 0.35807050113237937\n",
      "Cost after iteration 1000: 0.33942815383664116\n",
      "Cost after iteration 1100: 0.3052753636196268\n",
      "Cost after iteration 1200: 0.27491377282130275\n",
      "Cost after iteration 1300: 0.24681768210614793\n",
      "Cost after iteration 1400: 0.19850735037466122\n",
      "Cost after iteration 1500: 0.17448318112556363\n",
      "Cost after iteration 1600: 0.1708076297809549\n",
      "Cost after iteration 1700: 0.11306524562164766\n",
      "Cost after iteration 1800: 0.09629426845937143\n",
      "Cost after iteration 1900: 0.0834261795972688\n",
      "Cost after iteration 2000: 0.0743907870431909\n",
      "Cost after iteration 2100: 0.06630748132267913\n",
      "Cost after iteration 2200: 0.05919329501038167\n",
      "Cost after iteration 2300: 0.053361403485605495\n",
      "Cost after iteration 2400: 0.04855478562877017\n",
      "Cost after iteration 2499: 0.04421498215868936\n"
     ]
    },
    {
     "data": {
      "image/png": "[encoded data removed]",
      "text/plain": [
       "<Figure size 500x400 with 1 Axes>"
      ]
     },
     "metadata": {},
     "output_type": "display_data"
    }
   ],
   "source": [
    "parameters, costs = two_layer_model(train_x, train_y, layers_dims = (n_x, n_h, n_y), num_iterations = 2500, print_cost=True)\n",
    "plot_costs(costs, learning_rate)"
   ]
  },
  {
   "cell_type": "code",
   "execution_count": 35,
   "id": "f75cf404",
   "metadata": {},
   "outputs": [
    {
     "name": "stdout",
     "output_type": "stream",
     "text": [
      "Accuracy: 0.9999999999999998\n"
     ]
    }
   ],
   "source": [
    "predictions_train = predict(train_x, train_y, parameters)"
   ]
  },
  {
   "cell_type": "code",
   "execution_count": 36,
   "id": "28abccaa",
   "metadata": {},
   "outputs": [
    {
     "name": "stdout",
     "output_type": "stream",
     "text": [
      "Accuracy: 0.72\n"
     ]
    }
   ],
   "source": [
    "predictions_test = predict(test_x, test_y, parameters)"
   ]
  },
  {
   "cell_type": "markdown",
   "id": "e1b8b597",
   "metadata": {},
   "source": [
    "# L-layer_model"
   ]
  },
  {
   "cell_type": "code",
   "execution_count": null,
   "id": "2695cdd7",
   "metadata": {},
   "outputs": [],
   "source": []
  },
  {
   "cell_type": "code",
   "execution_count": 37,
   "id": "cb334dba",
   "metadata": {},
   "outputs": [],
   "source": [
    "def initialize_parameters_deep(layers_dims):\n",
    "    np.random.seed(1)\n",
    "    parameters = {}\n",
    "    L = len(layer_dims) # number of layers in the network\n",
    "    for l in range(1 , L):\n",
    "        parameters[\"W\" + str(l)] = np.random.randn(layers_dims[l] , layers_dims[l-1])/np.sqrt(layer_dims[l-1])\n",
    "        parameters[\"b\" + str(l)] = np.zeros((layers[l],1))\n",
    "    return parameters"
   ]
  },
  {
   "cell_type": "code",
   "execution_count": 40,
   "id": "64629485",
   "metadata": {},
   "outputs": [],
   "source": [
    "def L_model_forward(X, parameters):\n",
    "    np.random.seed(1)\n",
    "    A = X\n",
    "    m = len(parameters)//2\n",
    "    for l in range(1 , L):\n",
    "        A_prev = A\n",
    "        A , cache = linear_activation_forward(A_prev, parameters[\"W1\" + str(l)] , parameters[\"b\" + str(l)] , activation = \"relu\")\n",
    "    AL , cache = linear_activation_forward(A, parameters[\"W1\" + str(l)] , parameters[\"b\" + str(l)] , activation = \"sigmoid\")\n",
    "    return AL , cache"
   ]
  },
  {
   "cell_type": "code",
   "execution_count": 41,
   "id": "6acabd29",
   "metadata": {},
   "outputs": [],
   "source": [
    "def compute_cost(AL, Y):\n",
    "    \"\"\"\n",
    "    Implement the cost function defined by equation (7).\n",
    "\n",
    "    Arguments:\n",
    "    AL -- probability vector corresponding to your label predictions, shape (1, number of examples)\n",
    "    Y -- true \"label\" vector (for example: containing 0 if non-cat, 1 if cat), shape (1, number of examples)\n",
    "\n",
    "    Returns:\n",
    "    cost -- cross-entropy cost\n",
    "    \"\"\"\n",
    "    \n",
    "    m = Y.shape[1]\n",
    "\n",
    "    # Compute loss from aL and y.\n",
    "    cost = (1./m) * (-np.dot(Y,np.log(AL).T) - np.dot(1-Y, np.log(1-AL).T))\n",
    "    \n",
    "    cost = np.squeeze(cost)      # To make sure your cost's shape is what we expect (e.g. this turns [[17]] into 17).\n",
    "    assert(cost.shape == ())\n",
    "    \n",
    "    return cost"
   ]
  },
  {
   "cell_type": "code",
   "execution_count": 42,
   "id": "d77adaf9",
   "metadata": {},
   "outputs": [],
   "source": [
    "def L_model_backward(AL , Y , caches):\n",
    "    \"\"\"\n",
    "    Implement the backward propagation for the [LINEAR->RELU] * (L-1) -> LINEAR -> SIGMOID group\n",
    "    \n",
    "    Arguments:\n",
    "    AL -- probability vector, output of the forward propagation (L_model_forward())\n",
    "    Y -- true \"label\" vector (containing 0 if non-cat, 1 if cat)\n",
    "    caches -- list of caches containing:\n",
    "                every cache of linear_activation_forward() with \"relu\" (there are (L-1) or them, indexes from 0 to L-2)\n",
    "                the cache of linear_activation_forward() with \"sigmoid\" (there is one, index L-1)\n",
    "    \n",
    "    Returns:\n",
    "    grads -- A dictionary with the gradients\n",
    "             grads[\"dA\" + str(l)] = ... \n",
    "             grads[\"dW\" + str(l)] = ...\n",
    "             grads[\"db\" + str(l)] = ... \n",
    "    \"\"\"\n",
    "    grads = {}\n",
    "    L = len(caches)\n",
    "    m = AL.shape[1]\n",
    "    print(AL.shape[1])\n",
    "    Y = Y.reshape(AL.shape) # after this line Y is the same shape as AL\n",
    "    \n",
    "    # Initializing the backpropagation\n",
    "    dAL = -(np.divide(Y, AL) - np.divide(1-Y , 1-AL))\n",
    "    # Lth layer (Sigmoid -> Linear) gradients. Inputs : \"AL, Y , caches\". Outputs:\n",
    "    current_cache = caches[L-1]\n",
    "    \n",
    "    grads[\"dA\" + str(L-1)], grads[\"dW\" + str(L)], grads[\"db\" + str(L)] = linear_activation_backward(dAL, current_cache, activation = \"sigmoid\")\n",
    "    \n",
    "    for l in reversed(range(L-1)):\n",
    "        # lth layer: (RELU -> LINEAR) gradients.\n",
    "        current_cache = caches[l]\n",
    "        dA_prev_temp, dW_temp, db_temp = linear_activation_backward(grads[\"dA\" + str(l + 1)], current_cache, activation = \"relu\")\n",
    "        grads[\"dA\" + str(l)] = dA_prev_temp\n",
    "        grads[\"dW\" + str(l + 1)] = dW_temp\n",
    "        grads[\"db\" + str(l + 1)] = db_temp\n",
    "    \n",
    "    return grads    \n",
    "        "
   ]
  },
  {
   "cell_type": "code",
   "execution_count": 43,
   "id": "a3480eca",
   "metadata": {},
   "outputs": [],
   "source": [
    "def update_parameters(parameters , grads , learning_rate):\n",
    "    L = len(parameters) // 2 # number of layers in the neural network\n",
    "    # Update rule for each parameter. Use a for loop\n",
    "    for l in range(L):\n",
    "        parameters[\"W\"+str(l+1)] = parameters[\"W\" + str(l+1)] - learning_rate * grads[\"dW\" + str(l+1)]\n",
    "        parameters[\"b\"+str(l+1)] = parameters[\"b\" + str(l+1)] - learning_rate * grads[\"db\" + str(l+1)]\n",
    "    return parameters    "
   ]
  },
  {
   "cell_type": "code",
   "execution_count": 44,
   "id": "87288a1c",
   "metadata": {},
   "outputs": [],
   "source": [
    "layers_dims = [12288, 20, 7, 5, 1] # 4-layer model"
   ]
  },
  {
   "cell_type": "code",
   "execution_count": null,
   "id": "32d57c81",
   "metadata": {},
   "outputs": [],
   "source": [
    "def L_layer_model(X , Y, layers_dims , learning_rate, num_iteration = 3000, print_cost = False):\n",
    "    "
   ]
  }
 ],
 "metadata": {
  "kernelspec": {
   "display_name": "Python 3 (ipykernel)",
   "language": "python",
   "name": "python3"
  },
  "language_info": {
   "codemirror_mode": {
    "name": "ipython",
    "version": 3
   },
   "file_extension": ".py",
   "mimetype": "text/x-python",
   "name": "python",
   "nbconvert_exporter": "python",
   "pygments_lexer": "ipython3",
   "version": "3.9.13"
  }
 },
 "nbformat": 4,
 "nbformat_minor": 5
}
